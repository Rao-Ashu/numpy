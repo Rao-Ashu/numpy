{
  "nbformat": 4,
  "nbformat_minor": 0,
  "metadata": {
    "colab": {
      "provenance": [],
      "authorship_tag": "ABX9TyMZrw9nRrjbCutliQw6KYb0",
      "include_colab_link": true
    },
    "kernelspec": {
      "name": "python3",
      "display_name": "Python 3"
    },
    "language_info": {
      "name": "python"
    }
  },
  "cells": [
    {
      "cell_type": "markdown",
      "metadata": {
        "id": "view-in-github",
        "colab_type": "text"
      },
      "source": [
        "<a href=\"https://colab.research.google.com/github/Rao-Ashu/numpy/blob/main/Numpy.ipynb\" target=\"_parent\"><img src=\"https://colab.research.google.com/assets/colab-badge.svg\" alt=\"Open In Colab\"/></a>"
      ]
    },
    {
      "cell_type": "markdown",
      "source": [
        "**Python objectives:**\n",
        "<br>\n",
        "-> containers: lists(costless insertion and append),\n",
        "<br>\n",
        "-> dictionaries(fast lookup)"
      ],
      "metadata": {
        "id": "CiAoNYNF7dyo"
      }
    },
    {
      "cell_type": "markdown",
      "source": [
        "**Numpy provides:**\n",
        "<br>\n",
        "1. extension package to python for multi-dimensional arrays\n",
        "2. closer to hardware(efficiency)\n",
        "3. Array oriented computing"
      ],
      "metadata": {
        "id": "FXzVDGvL70uR"
      }
    },
    {
      "cell_type": "markdown",
      "source": [
        "# **CREATING A NUMPY ARRAY**"
      ],
      "metadata": {
        "id": "dSjoJoK7-ffX"
      }
    },
    {
      "cell_type": "code",
      "source": [
        "import numpy as np\n",
        "a = np.array([0,1,2,3])\n",
        "print(a)\n",
        "\n",
        "print(np.arange(10))"
      ],
      "metadata": {
        "colab": {
          "base_uri": "https://localhost:8080/"
        },
        "id": "HGaQGePw-PcT",
        "outputId": "a3f1f749-e19a-4384-fb1c-7124c3a13b4f"
      },
      "execution_count": null,
      "outputs": [
        {
          "output_type": "stream",
          "name": "stdout",
          "text": [
            "[0 1 2 3]\n",
            "[0 1 2 3 4 5 6 7 8 9]\n"
          ]
        }
      ]
    },
    {
      "cell_type": "markdown",
      "source": [
        "**Why it is useful:** Memory-efficient container that provides fast numerical operations."
      ],
      "metadata": {
        "id": "Iqhzda0s_E8f"
      }
    },
    {
      "cell_type": "code",
      "source": [
        "#Simple python lists\n",
        "l = range(1000)\n",
        "%timeit [i**2 for i in l]"
      ],
      "metadata": {
        "colab": {
          "base_uri": "https://localhost:8080/"
        },
        "id": "j6WGCAUb_SW9",
        "outputId": "9061bf40-4913-40a0-b030-8bda2f91c104"
      },
      "execution_count": null,
      "outputs": [
        {
          "output_type": "stream",
          "name": "stdout",
          "text": [
            "297 µs ± 4.33 µs per loop (mean ± std. dev. of 7 runs, 1000 loops each)\n"
          ]
        }
      ]
    },
    {
      "cell_type": "code",
      "source": [
        "l1 = np.arange(1000)\n",
        "%timeit l1**2"
      ],
      "metadata": {
        "colab": {
          "base_uri": "https://localhost:8080/"
        },
        "id": "s0GugQ6c_m60",
        "outputId": "1f3b78a2-4d48-40c3-f8f6-aa49e57b8b17"
      },
      "execution_count": null,
      "outputs": [
        {
          "output_type": "stream",
          "name": "stdout",
          "text": [
            "1.48 µs ± 366 ns per loop (mean ± std. dev. of 7 runs, 1000000 loops each)\n"
          ]
        }
      ]
    },
    {
      "cell_type": "code",
      "source": [
        "# 1-D array\n",
        "a = np.array([0,1,2,3])\n",
        "a"
      ],
      "metadata": {
        "colab": {
          "base_uri": "https://localhost:8080/"
        },
        "id": "lTzffu_cBbgN",
        "outputId": "f9e0aa7b-4da7-45fa-f906-de482749231a"
      },
      "execution_count": null,
      "outputs": [
        {
          "output_type": "execute_result",
          "data": {
            "text/plain": [
              "array([0, 1, 2, 3])"
            ]
          },
          "metadata": {},
          "execution_count": 5
        }
      ]
    },
    {
      "cell_type": "code",
      "source": [
        "# print dimensions\n",
        "a.ndim"
      ],
      "metadata": {
        "colab": {
          "base_uri": "https://localhost:8080/"
        },
        "id": "KmPQ1QEcBn-e",
        "outputId": "d4ffce11-890d-47b3-9f56-d19555de8534"
      },
      "execution_count": null,
      "outputs": [
        {
          "output_type": "execute_result",
          "data": {
            "text/plain": [
              "1"
            ]
          },
          "metadata": {},
          "execution_count": 6
        }
      ]
    },
    {
      "cell_type": "code",
      "source": [
        "# shape\n",
        "a.shape"
      ],
      "metadata": {
        "colab": {
          "base_uri": "https://localhost:8080/"
        },
        "id": "10W-oTK9Bx3I",
        "outputId": "70ec2fbc-f02d-4cb6-d615-6d97167312b3"
      },
      "execution_count": null,
      "outputs": [
        {
          "output_type": "execute_result",
          "data": {
            "text/plain": [
              "(4,)"
            ]
          },
          "metadata": {},
          "execution_count": 7
        }
      ]
    },
    {
      "cell_type": "code",
      "source": [
        "# 2-D,\n",
        "b = np.array([[0,1,2],[3,4,5]])\n",
        "b\n",
        "\n"
      ],
      "metadata": {
        "colab": {
          "base_uri": "https://localhost:8080/"
        },
        "id": "Tn-aMk59B3iW",
        "outputId": "2422d88b-51ab-4b08-fb78-5a9294e29645"
      },
      "execution_count": null,
      "outputs": [
        {
          "output_type": "execute_result",
          "data": {
            "text/plain": [
              "array([[0, 1, 2],\n",
              "       [3, 4, 5]])"
            ]
          },
          "metadata": {},
          "execution_count": 12
        }
      ]
    },
    {
      "cell_type": "code",
      "source": [
        "b.ndim\n"
      ],
      "metadata": {
        "colab": {
          "base_uri": "https://localhost:8080/"
        },
        "id": "BftzvhMbCcoj",
        "outputId": "e4f6a11b-d07b-45c1-a463-980779201144"
      },
      "execution_count": null,
      "outputs": [
        {
          "output_type": "execute_result",
          "data": {
            "text/plain": [
              "2"
            ]
          },
          "metadata": {},
          "execution_count": 13
        }
      ]
    },
    {
      "cell_type": "code",
      "source": [
        "b.shape"
      ],
      "metadata": {
        "colab": {
          "base_uri": "https://localhost:8080/"
        },
        "id": "2hyMRgSJCewj",
        "outputId": "0f4bbc78-eb3c-4ff8-baf2-7390d6501e14"
      },
      "execution_count": null,
      "outputs": [
        {
          "output_type": "execute_result",
          "data": {
            "text/plain": [
              "(2, 3)"
            ]
          },
          "metadata": {},
          "execution_count": 14
        }
      ]
    },
    {
      "cell_type": "code",
      "source": [
        "len(b) #returns the size of the first dimension"
      ],
      "metadata": {
        "colab": {
          "base_uri": "https://localhost:8080/"
        },
        "id": "mrEwOp-hCjAy",
        "outputId": "878dd7c3-573d-46fe-85e1-cbbc52c55ec3"
      },
      "execution_count": null,
      "outputs": [
        {
          "output_type": "execute_result",
          "data": {
            "text/plain": [
              "2"
            ]
          },
          "metadata": {},
          "execution_count": 15
        }
      ]
    },
    {
      "cell_type": "code",
      "source": [
        "# 3-D array\n",
        "c = np.array([[[0,1],[2,3]],[[4,5],[6,7]]])\n",
        "c"
      ],
      "metadata": {
        "colab": {
          "base_uri": "https://localhost:8080/"
        },
        "id": "BnAOpxEcEIkp",
        "outputId": "c8a52c80-dfeb-44ac-d126-bc1b300077eb"
      },
      "execution_count": null,
      "outputs": [
        {
          "output_type": "execute_result",
          "data": {
            "text/plain": [
              "array([[[0, 1],\n",
              "        [2, 3]],\n",
              "\n",
              "       [[4, 5],\n",
              "        [6, 7]]])"
            ]
          },
          "metadata": {},
          "execution_count": 16
        }
      ]
    },
    {
      "cell_type": "code",
      "source": [
        "c.ndim"
      ],
      "metadata": {
        "colab": {
          "base_uri": "https://localhost:8080/"
        },
        "id": "xmjhHP1uEhXz",
        "outputId": "953bd4be-369a-443f-fab1-360fcd797c45"
      },
      "execution_count": null,
      "outputs": [
        {
          "output_type": "execute_result",
          "data": {
            "text/plain": [
              "3"
            ]
          },
          "metadata": {},
          "execution_count": 17
        }
      ]
    },
    {
      "cell_type": "code",
      "source": [
        "c.shape"
      ],
      "metadata": {
        "colab": {
          "base_uri": "https://localhost:8080/"
        },
        "id": "hslqKV7eEk6i",
        "outputId": "95a1cd8b-c797-4ca5-8615-6c7751ab52b1"
      },
      "execution_count": null,
      "outputs": [
        {
          "output_type": "execute_result",
          "data": {
            "text/plain": [
              "(2, 2, 2)"
            ]
          },
          "metadata": {},
          "execution_count": 18
        }
      ]
    },
    {
      "cell_type": "code",
      "source": [
        "len(c)"
      ],
      "metadata": {
        "colab": {
          "base_uri": "https://localhost:8080/"
        },
        "id": "dLSt5FodEsrG",
        "outputId": "cd5d5029-94c8-4d75-dc1f-be258217e662"
      },
      "execution_count": null,
      "outputs": [
        {
          "output_type": "execute_result",
          "data": {
            "text/plain": [
              "2"
            ]
          },
          "metadata": {},
          "execution_count": 19
        }
      ]
    },
    {
      "cell_type": "markdown",
      "source": [
        "**Other ways to create numpy arrays**"
      ],
      "metadata": {
        "id": "2EZx2sLxE62e"
      }
    },
    {
      "cell_type": "code",
      "source": [
        "a = np.arange(0,10,2) #start, end, step\n",
        "a"
      ],
      "metadata": {
        "colab": {
          "base_uri": "https://localhost:8080/"
        },
        "id": "hR6dWFJyFB-N",
        "outputId": "0481bc31-4f4f-43f0-c76e-a8f88065c17c"
      },
      "execution_count": null,
      "outputs": [
        {
          "output_type": "execute_result",
          "data": {
            "text/plain": [
              "array([0, 2, 4, 6, 8])"
            ]
          },
          "metadata": {},
          "execution_count": 20
        }
      ]
    },
    {
      "cell_type": "code",
      "source": [
        "# using linspace(linear space function)\n",
        "b = np.linspace(0,1,6)  #start, end, number of points\n",
        "b"
      ],
      "metadata": {
        "colab": {
          "base_uri": "https://localhost:8080/"
        },
        "id": "TXN-uqw-FJ0U",
        "outputId": "bca1255d-484d-455e-b6d0-f98d1544ca08"
      },
      "execution_count": null,
      "outputs": [
        {
          "output_type": "execute_result",
          "data": {
            "text/plain": [
              "array([0. , 0.2, 0.4, 0.6, 0.8, 1. ])"
            ]
          },
          "metadata": {},
          "execution_count": 22
        }
      ]
    },
    {
      "cell_type": "code",
      "source": [
        "# common arrays\n",
        "a = np.ones((3,3)) #function arguement is a tuple\n",
        "a"
      ],
      "metadata": {
        "colab": {
          "base_uri": "https://localhost:8080/"
        },
        "id": "GaHjc1mPFnO3",
        "outputId": "92b12308-3101-49e9-d492-b1df825fdfef"
      },
      "execution_count": null,
      "outputs": [
        {
          "output_type": "execute_result",
          "data": {
            "text/plain": [
              "array([[1., 1., 1.],\n",
              "       [1., 1., 1.],\n",
              "       [1., 1., 1.]])"
            ]
          },
          "metadata": {},
          "execution_count": 23
        }
      ]
    },
    {
      "cell_type": "code",
      "source": [
        "b = np.zeros((3,3))\n",
        "b"
      ],
      "metadata": {
        "colab": {
          "base_uri": "https://localhost:8080/"
        },
        "id": "FvlYc0idHVxX",
        "outputId": "883dd2ab-4414-4f97-c9c1-2ea1dc5b58b3"
      },
      "execution_count": null,
      "outputs": [
        {
          "output_type": "execute_result",
          "data": {
            "text/plain": [
              "array([[0., 0., 0.],\n",
              "       [0., 0., 0.],\n",
              "       [0., 0., 0.]])"
            ]
          },
          "metadata": {},
          "execution_count": 24
        }
      ]
    },
    {
      "cell_type": "code",
      "source": [
        "np.eye(3) #returns a 2-D array with 1's in diagonal"
      ],
      "metadata": {
        "colab": {
          "base_uri": "https://localhost:8080/"
        },
        "id": "4godsk3DHgTf",
        "outputId": "102431b1-fd11-4f6b-b315-7127c5c1928f"
      },
      "execution_count": null,
      "outputs": [
        {
          "output_type": "execute_result",
          "data": {
            "text/plain": [
              "array([[1., 0., 0.],\n",
              "       [0., 1., 0.],\n",
              "       [0., 0., 1.]])"
            ]
          },
          "metadata": {},
          "execution_count": 25
        }
      ]
    },
    {
      "cell_type": "code",
      "source": [
        "np.eye(3,2)"
      ],
      "metadata": {
        "colab": {
          "base_uri": "https://localhost:8080/"
        },
        "id": "XQ5RGHcBHqrJ",
        "outputId": "981cad24-86d0-47c6-dbf8-8a15fe0a398e"
      },
      "execution_count": null,
      "outputs": [
        {
          "output_type": "execute_result",
          "data": {
            "text/plain": [
              "array([[1., 0.],\n",
              "       [0., 1.],\n",
              "       [0., 0.]])"
            ]
          },
          "metadata": {},
          "execution_count": 26
        }
      ]
    },
    {
      "cell_type": "code",
      "source": [
        "# create a diagonal array\n",
        "a = np.diag([1,2,3,4])\n",
        "a"
      ],
      "metadata": {
        "colab": {
          "base_uri": "https://localhost:8080/"
        },
        "id": "ohx4LztoHxlg",
        "outputId": "aeb7f4f2-a4ab-4b2f-defe-f2e5b0f3dcc3"
      },
      "execution_count": null,
      "outputs": [
        {
          "output_type": "execute_result",
          "data": {
            "text/plain": [
              "array([[1, 0, 0, 0],\n",
              "       [0, 2, 0, 0],\n",
              "       [0, 0, 3, 0],\n",
              "       [0, 0, 0, 4]])"
            ]
          },
          "metadata": {},
          "execution_count": 27
        }
      ]
    },
    {
      "cell_type": "code",
      "source": [
        "np.diag(a) #extract diagonal"
      ],
      "metadata": {
        "colab": {
          "base_uri": "https://localhost:8080/"
        },
        "id": "6kPxAQ0-H_AT",
        "outputId": "c757c0be-857f-4479-dc0d-fece17d3cd29"
      },
      "execution_count": null,
      "outputs": [
        {
          "output_type": "execute_result",
          "data": {
            "text/plain": [
              "array([1, 2, 3, 4])"
            ]
          },
          "metadata": {},
          "execution_count": 28
        }
      ]
    },
    {
      "cell_type": "code",
      "source": [
        "# Creating array using random\n",
        "a = np.random.rand(4)\n",
        "a"
      ],
      "metadata": {
        "colab": {
          "base_uri": "https://localhost:8080/"
        },
        "id": "2QuaJh9vIF5N",
        "outputId": "af129c7f-9ec0-4922-a26d-b124dbfe6b0b"
      },
      "execution_count": null,
      "outputs": [
        {
          "output_type": "execute_result",
          "data": {
            "text/plain": [
              "array([0.44101132, 0.19270716, 0.81421392, 0.34377181])"
            ]
          },
          "metadata": {},
          "execution_count": 29
        }
      ]
    },
    {
      "cell_type": "code",
      "source": [
        "a = np.random.randn(4)\n",
        "a"
      ],
      "metadata": {
        "colab": {
          "base_uri": "https://localhost:8080/"
        },
        "id": "tKkqhfoJV9kC",
        "outputId": "bdb1306b-1a63-49f0-997e-5df309f21e02"
      },
      "execution_count": null,
      "outputs": [
        {
          "output_type": "execute_result",
          "data": {
            "text/plain": [
              "array([ 0.27770326, -0.71761656, -1.11320063,  0.245728  ])"
            ]
          },
          "metadata": {},
          "execution_count": 30
        }
      ]
    },
    {
      "cell_type": "markdown",
      "source": [
        "NOTE:\n",
        "<br>\n",
        "In some arrays elements are like 1. instead of 1, because of data-type"
      ],
      "metadata": {
        "id": "QQDHy2WEWdYb"
      }
    },
    {
      "cell_type": "code",
      "source": [
        "a = np.arange(10)\n",
        "print(a)\n",
        "a.dtype"
      ],
      "metadata": {
        "colab": {
          "base_uri": "https://localhost:8080/"
        },
        "id": "15AmyXGPWqXn",
        "outputId": "8843f8e3-009f-421e-8a05-57f29883ca84"
      },
      "execution_count": null,
      "outputs": [
        {
          "output_type": "stream",
          "name": "stdout",
          "text": [
            "[0 1 2 3 4 5 6 7 8 9]\n"
          ]
        },
        {
          "output_type": "execute_result",
          "data": {
            "text/plain": [
              "dtype('int64')"
            ]
          },
          "metadata": {},
          "execution_count": 34
        }
      ]
    },
    {
      "cell_type": "code",
      "source": [
        "# can explicitly specify the data-type\n",
        "a = np.arange(10, dtype = 'float64')\n",
        "a"
      ],
      "metadata": {
        "colab": {
          "base_uri": "https://localhost:8080/"
        },
        "id": "V-p-eo9aWxIk",
        "outputId": "7f880381-e3ff-438a-998b-fffa2e859445"
      },
      "execution_count": null,
      "outputs": [
        {
          "output_type": "execute_result",
          "data": {
            "text/plain": [
              "array([0., 1., 2., 3., 4., 5., 6., 7., 8., 9.])"
            ]
          },
          "metadata": {},
          "execution_count": 32
        }
      ]
    },
    {
      "cell_type": "markdown",
      "source": [
        "# **3. INDEXING AND SLICING**"
      ],
      "metadata": {
        "id": "JDrY4kPkXWYN"
      }
    },
    {
      "cell_type": "code",
      "source": [
        "a = np.arange(10)\n",
        "print(a[5])"
      ],
      "metadata": {
        "colab": {
          "base_uri": "https://localhost:8080/"
        },
        "id": "e3dlKaluXgNw",
        "outputId": "acdd5341-bdb8-46de-ccc2-521c74fd32fe"
      },
      "execution_count": null,
      "outputs": [
        {
          "output_type": "stream",
          "name": "stdout",
          "text": [
            "5\n"
          ]
        }
      ]
    },
    {
      "cell_type": "code",
      "source": [
        "a = np.diag([1,2,3])\n",
        "print(a[2,2])"
      ],
      "metadata": {
        "colab": {
          "base_uri": "https://localhost:8080/"
        },
        "id": "DCF6TcWsYAMT",
        "outputId": "1b1fb784-2188-4db2-d4f9-f2952aa0b981"
      },
      "execution_count": null,
      "outputs": [
        {
          "output_type": "stream",
          "name": "stdout",
          "text": [
            "3\n"
          ]
        }
      ]
    },
    {
      "cell_type": "code",
      "source": [
        "a[2,1] = 5 # assignment of value\n",
        "a"
      ],
      "metadata": {
        "colab": {
          "base_uri": "https://localhost:8080/"
        },
        "id": "CXY9eHBhYI2R",
        "outputId": "465fea2e-0e2d-40a0-dbde-8ac59de86ddb"
      },
      "execution_count": null,
      "outputs": [
        {
          "output_type": "execute_result",
          "data": {
            "text/plain": [
              "array([[1, 0, 0],\n",
              "       [0, 2, 0],\n",
              "       [0, 5, 3]])"
            ]
          },
          "metadata": {},
          "execution_count": 37
        }
      ]
    },
    {
      "cell_type": "markdown",
      "source": [
        "**SLICING**"
      ],
      "metadata": {
        "id": "m3PJPIn3YWrr"
      }
    },
    {
      "cell_type": "code",
      "source": [
        "a = np.arange(10)\n",
        "a"
      ],
      "metadata": {
        "colab": {
          "base_uri": "https://localhost:8080/"
        },
        "id": "vK5RBlLhYb3g",
        "outputId": "f26a37c2-e9aa-440f-d9f7-846c588509e8"
      },
      "execution_count": null,
      "outputs": [
        {
          "output_type": "execute_result",
          "data": {
            "text/plain": [
              "array([0, 1, 2, 3, 4, 5, 6, 7, 8, 9])"
            ]
          },
          "metadata": {},
          "execution_count": 38
        }
      ]
    },
    {
      "cell_type": "code",
      "source": [
        "a[1:8:2] #[startIndex : endIndex(exclusive) : step]"
      ],
      "metadata": {
        "colab": {
          "base_uri": "https://localhost:8080/"
        },
        "id": "kXEfVPTaYhlr",
        "outputId": "017f001d-fc7b-4524-8e8d-78f151869569"
      },
      "execution_count": null,
      "outputs": [
        {
          "output_type": "execute_result",
          "data": {
            "text/plain": [
              "array([1, 3, 5, 7])"
            ]
          },
          "metadata": {},
          "execution_count": 39
        }
      ]
    },
    {
      "cell_type": "code",
      "source": [
        "# combine assignment and slicing:\n",
        "\n",
        "a = np.arange(10)\n",
        "a[5:] = 10\n",
        "a"
      ],
      "metadata": {
        "colab": {
          "base_uri": "https://localhost:8080/"
        },
        "id": "xInGBJPKYviU",
        "outputId": "d5449943-9ce9-4365-bc8b-ef37952ad5ba"
      },
      "execution_count": null,
      "outputs": [
        {
          "output_type": "execute_result",
          "data": {
            "text/plain": [
              "array([ 0,  1,  2,  3,  4, 10, 10, 10, 10, 10])"
            ]
          },
          "metadata": {},
          "execution_count": 40
        }
      ]
    },
    {
      "cell_type": "code",
      "source": [
        "b = np.arange(5)\n",
        "a[5:] = b[::-1]  #assigning in previous array a\n",
        "a"
      ],
      "metadata": {
        "colab": {
          "base_uri": "https://localhost:8080/"
        },
        "id": "mA-WTt0TZO2j",
        "outputId": "60f8960a-b760-4095-e333-71c08c2e8d9a"
      },
      "execution_count": null,
      "outputs": [
        {
          "output_type": "execute_result",
          "data": {
            "text/plain": [
              "array([0, 1, 2, 3, 4, 4, 3, 2, 1, 0])"
            ]
          },
          "metadata": {},
          "execution_count": 42
        }
      ]
    },
    {
      "cell_type": "markdown",
      "source": [
        "# **4. COPIES AND VIEWS**"
      ],
      "metadata": {
        "id": "dGTFfRQoZ1Iq"
      }
    },
    {
      "cell_type": "code",
      "source": [
        "a = np.arange(10)\n",
        "a"
      ],
      "metadata": {
        "colab": {
          "base_uri": "https://localhost:8080/"
        },
        "id": "MZTT2OREZ8BY",
        "outputId": "dcf935fe-ad1e-4caa-f48d-05b2e1259121"
      },
      "execution_count": null,
      "outputs": [
        {
          "output_type": "execute_result",
          "data": {
            "text/plain": [
              "array([0, 1, 2, 3, 4, 5, 6, 7, 8, 9])"
            ]
          },
          "metadata": {},
          "execution_count": 43
        }
      ]
    },
    {
      "cell_type": "code",
      "source": [
        "b = a[::2]\n",
        "b"
      ],
      "metadata": {
        "colab": {
          "base_uri": "https://localhost:8080/"
        },
        "id": "1tzZU0tooDvs",
        "outputId": "03eff798-0fa4-46e3-e2bc-45c0c79727a7"
      },
      "execution_count": null,
      "outputs": [
        {
          "output_type": "execute_result",
          "data": {
            "text/plain": [
              "array([0, 2, 4, 6, 8])"
            ]
          },
          "metadata": {},
          "execution_count": 44
        }
      ]
    },
    {
      "cell_type": "code",
      "source": [
        "np.shares_memory(a,b)"
      ],
      "metadata": {
        "colab": {
          "base_uri": "https://localhost:8080/"
        },
        "id": "LdeBLWAAoJ_t",
        "outputId": "725a763b-0bc8-4d6e-8c86-f4883b17b078"
      },
      "execution_count": null,
      "outputs": [
        {
          "output_type": "execute_result",
          "data": {
            "text/plain": [
              "True"
            ]
          },
          "metadata": {},
          "execution_count": 45
        }
      ]
    },
    {
      "cell_type": "markdown",
      "source": [
        "here numpy array 'a' and 'b' shares the memory using the VIEW concept, that means both the pointers a,b are pointing to same location."
      ],
      "metadata": {
        "id": "qIlsa7mooP1U"
      }
    },
    {
      "cell_type": "code",
      "source": [
        "b[0] = 11\n",
        "b"
      ],
      "metadata": {
        "colab": {
          "base_uri": "https://localhost:8080/"
        },
        "id": "Rey3bAJ8oles",
        "outputId": "d0e58f63-d072-4682-9a2b-b979251ffddd"
      },
      "execution_count": null,
      "outputs": [
        {
          "output_type": "execute_result",
          "data": {
            "text/plain": [
              "array([11,  2,  4,  6,  8])"
            ]
          },
          "metadata": {},
          "execution_count": 46
        }
      ]
    },
    {
      "cell_type": "code",
      "source": [
        "a # 11 will be at the 0th index of array a also as same memory location\n"
      ],
      "metadata": {
        "colab": {
          "base_uri": "https://localhost:8080/"
        },
        "id": "8RgPxvICorHZ",
        "outputId": "0893eea9-af77-4c8f-f697-b82b373d2ce4"
      },
      "execution_count": null,
      "outputs": [
        {
          "output_type": "execute_result",
          "data": {
            "text/plain": [
              "array([11,  1,  2,  3,  4,  5,  6,  7,  8,  9])"
            ]
          },
          "metadata": {},
          "execution_count": 47
        }
      ]
    },
    {
      "cell_type": "code",
      "source": [
        "#instead do force copy\n",
        "a = np.arange(10)\n",
        "\n",
        "c = a[::2].copy()  #force a copy\n",
        "c"
      ],
      "metadata": {
        "colab": {
          "base_uri": "https://localhost:8080/"
        },
        "id": "A3zgma6Ko9vQ",
        "outputId": "97ad87ff-9fce-451a-bff0-d244b6c26392"
      },
      "execution_count": null,
      "outputs": [
        {
          "output_type": "execute_result",
          "data": {
            "text/plain": [
              "array([0, 2, 4, 6, 8])"
            ]
          },
          "metadata": {},
          "execution_count": 48
        }
      ]
    },
    {
      "cell_type": "code",
      "source": [
        "c[0] = 10\n",
        "a\n",
        "# it will not make changes in a as separate copy due to force copy"
      ],
      "metadata": {
        "colab": {
          "base_uri": "https://localhost:8080/"
        },
        "id": "KtdHNUv2pMvl",
        "outputId": "5cecff5d-5d17-474b-f99f-b40d8caa1883"
      },
      "execution_count": null,
      "outputs": [
        {
          "output_type": "execute_result",
          "data": {
            "text/plain": [
              "array([0, 1, 2, 3, 4, 5, 6, 7, 8, 9])"
            ]
          },
          "metadata": {},
          "execution_count": 49
        }
      ]
    },
    {
      "cell_type": "markdown",
      "source": [
        "# **5. FANCY INDEXING**"
      ],
      "metadata": {
        "id": "knFU1os4pbYX"
      }
    },
    {
      "cell_type": "markdown",
      "source": [
        "NumPy arrays can be indexed with slices, but also with boolean or integer arrays(masks). This method is called fancy indexing. It creates copies not views."
      ],
      "metadata": {
        "id": "JW5aXhq6sVQC"
      }
    },
    {
      "cell_type": "code",
      "source": [
        "a = np.random.randint(0,20,15)\n",
        "a"
      ],
      "metadata": {
        "colab": {
          "base_uri": "https://localhost:8080/"
        },
        "id": "-PToXJEopg7u",
        "outputId": "5c2a10a0-0ffb-4ac2-d808-382fcced3eef"
      },
      "execution_count": null,
      "outputs": [
        {
          "output_type": "execute_result",
          "data": {
            "text/plain": [
              "array([ 5,  0, 14, 13, 13,  4, 13,  6, 17,  7,  6, 19,  1, 19, 13])"
            ]
          },
          "metadata": {},
          "execution_count": 50
        }
      ]
    },
    {
      "cell_type": "code",
      "source": [
        "mask = (a%2 ==0) #boolean expression"
      ],
      "metadata": {
        "id": "Ik3xBHjQrznp"
      },
      "execution_count": null,
      "outputs": []
    },
    {
      "cell_type": "code",
      "source": [
        "b = a[mask]\n",
        "b"
      ],
      "metadata": {
        "colab": {
          "base_uri": "https://localhost:8080/"
        },
        "id": "eCMx3NIDr57F",
        "outputId": "898e76b9-f47d-4da1-9aca-1ae6990b947c"
      },
      "execution_count": null,
      "outputs": [
        {
          "output_type": "execute_result",
          "data": {
            "text/plain": [
              "array([ 0, 14,  4,  6,  6])"
            ]
          },
          "metadata": {},
          "execution_count": 52
        }
      ]
    },
    {
      "cell_type": "code",
      "source": [
        "c = a\n",
        "c[mask] = -1\n",
        "c"
      ],
      "metadata": {
        "colab": {
          "base_uri": "https://localhost:8080/"
        },
        "id": "SWbpy25YsAWM",
        "outputId": "a8fbd158-f285-4b07-9330-572add75d25b"
      },
      "execution_count": null,
      "outputs": [
        {
          "output_type": "execute_result",
          "data": {
            "text/plain": [
              "array([ 5, -1, -1, 13, 13, -1, 13, -1, 17,  7, -1, 19,  1, 19, 13])"
            ]
          },
          "metadata": {},
          "execution_count": 53
        }
      ]
    },
    {
      "cell_type": "markdown",
      "source": [
        "**Indexing with an array of integers**"
      ],
      "metadata": {
        "id": "_ns3D27VtYRy"
      }
    },
    {
      "cell_type": "code",
      "source": [
        "a = np.arange(0,100,10)\n",
        "a"
      ],
      "metadata": {
        "colab": {
          "base_uri": "https://localhost:8080/"
        },
        "id": "CdfYN4MNtckS",
        "outputId": "25f0077e-6110-4b05-9c40-3ceb77293a52"
      },
      "execution_count": null,
      "outputs": [
        {
          "output_type": "execute_result",
          "data": {
            "text/plain": [
              "array([ 0, 10, 20, 30, 40, 50, 60, 70, 80, 90])"
            ]
          },
          "metadata": {},
          "execution_count": 54
        }
      ]
    },
    {
      "cell_type": "code",
      "source": [
        "# Indexing with an array of integers, same index is repeated\n",
        "a[[2,3,2,4,2]]"
      ],
      "metadata": {
        "colab": {
          "base_uri": "https://localhost:8080/"
        },
        "id": "hjI7fLQttiXS",
        "outputId": "898ed5df-dea5-4990-f105-a2a98b59457f"
      },
      "execution_count": null,
      "outputs": [
        {
          "output_type": "execute_result",
          "data": {
            "text/plain": [
              "array([20, 30, 20, 40, 20])"
            ]
          },
          "metadata": {},
          "execution_count": 55
        }
      ]
    },
    {
      "cell_type": "code",
      "source": [
        "# assign new values too\n",
        "a[[9,7]] = -200\n",
        "a"
      ],
      "metadata": {
        "colab": {
          "base_uri": "https://localhost:8080/"
        },
        "id": "edGdrXxTtx4b",
        "outputId": "76d6350e-b66d-41dd-9e90-4dff09c6b80e"
      },
      "execution_count": null,
      "outputs": [
        {
          "output_type": "execute_result",
          "data": {
            "text/plain": [
              "array([   0,   10,   20,   30,   40,   50,   60, -200,   80, -200])"
            ]
          },
          "metadata": {},
          "execution_count": 56
        }
      ]
    },
    {
      "cell_type": "markdown",
      "source": [
        "### NUMERICAL OPERATIONS ON NUMPY"
      ],
      "metadata": {
        "id": "tJe3h1Fp6GCC"
      }
    },
    {
      "cell_type": "code",
      "source": [
        "a = np.array([1,2,3,4])\n",
        "a+1"
      ],
      "metadata": {
        "colab": {
          "base_uri": "https://localhost:8080/"
        },
        "id": "I-CwuvGM6PYJ",
        "outputId": "1fef8477-8722-4504-b225-c682b7df6637"
      },
      "execution_count": 57,
      "outputs": [
        {
          "output_type": "execute_result",
          "data": {
            "text/plain": [
              "array([2, 3, 4, 5])"
            ]
          },
          "metadata": {},
          "execution_count": 57
        }
      ]
    },
    {
      "cell_type": "code",
      "source": [
        "a**2"
      ],
      "metadata": {
        "colab": {
          "base_uri": "https://localhost:8080/"
        },
        "id": "zvV5QWZ56byB",
        "outputId": "7a45e3b2-b037-4779-d619-5bce2fb0d863"
      },
      "execution_count": 58,
      "outputs": [
        {
          "output_type": "execute_result",
          "data": {
            "text/plain": [
              "array([ 1,  4,  9, 16])"
            ]
          },
          "metadata": {},
          "execution_count": 58
        }
      ]
    },
    {
      "cell_type": "code",
      "source": [
        "b = np.ones(4)\n",
        "a-b             #operations happen elementwise"
      ],
      "metadata": {
        "colab": {
          "base_uri": "https://localhost:8080/"
        },
        "id": "6JawPW-46fwK",
        "outputId": "b65b70e0-ac46-40ac-85b5-30487c1e460b"
      },
      "execution_count": 59,
      "outputs": [
        {
          "output_type": "execute_result",
          "data": {
            "text/plain": [
              "array([0., 1., 2., 3.])"
            ]
          },
          "metadata": {},
          "execution_count": 59
        }
      ]
    },
    {
      "cell_type": "code",
      "source": [
        "# Matrix Multiplicaiton\n",
        "c = np.diag([1,2,3,4])\n",
        "print(c*c)\n",
        "print (\"*********\")\n",
        "print(c.dot(c))"
      ],
      "metadata": {
        "colab": {
          "base_uri": "https://localhost:8080/"
        },
        "id": "AfjrlSV26sUY",
        "outputId": "219e510a-a11f-4d00-b990-83fca8780bfc"
      },
      "execution_count": 60,
      "outputs": [
        {
          "output_type": "stream",
          "name": "stdout",
          "text": [
            "[[ 1  0  0  0]\n",
            " [ 0  4  0  0]\n",
            " [ 0  0  9  0]\n",
            " [ 0  0  0 16]]\n",
            "*********\n",
            "[[ 1  0  0  0]\n",
            " [ 0  4  0  0]\n",
            " [ 0  0  9  0]\n",
            " [ 0  0  0 16]]\n"
          ]
        }
      ]
    },
    {
      "cell_type": "code",
      "source": [
        "from binascii import b2a_base64\n",
        "a = np.array([1,2,3,4])\n",
        "b = np.array([2,2,4,4])\n",
        "a == b"
      ],
      "metadata": {
        "colab": {
          "base_uri": "https://localhost:8080/"
        },
        "id": "NGVjzGR57TAR",
        "outputId": "df2bb78b-1a8c-4f49-8972-c9972e20da29"
      },
      "execution_count": 61,
      "outputs": [
        {
          "output_type": "execute_result",
          "data": {
            "text/plain": [
              "array([False,  True, False,  True])"
            ]
          },
          "metadata": {},
          "execution_count": 61
        }
      ]
    },
    {
      "cell_type": "code",
      "source": [
        "#array-wise comparison\n",
        "a = np.array([1,2,3,4])\n",
        "b = np.array([2,2,4,4])\n",
        "c = np.array([1,2,3,4])\n",
        "\n",
        "np.array_equal(a,b)"
      ],
      "metadata": {
        "colab": {
          "base_uri": "https://localhost:8080/"
        },
        "id": "Ifv25RYa7gS3",
        "outputId": "ffccb8a4-d1e4-4a0d-ffe1-9e62c57e23a2"
      },
      "execution_count": 62,
      "outputs": [
        {
          "output_type": "execute_result",
          "data": {
            "text/plain": [
              "False"
            ]
          },
          "metadata": {},
          "execution_count": 62
        }
      ]
    },
    {
      "cell_type": "code",
      "source": [
        "# Logical Operation\n",
        "\n",
        "a = np.array([1,1,0,0], dtype=bool)\n",
        "b = np.array([1,0,1,0], dtype=bool)\n",
        "\n",
        "np.logical_or(a,b)"
      ],
      "metadata": {
        "colab": {
          "base_uri": "https://localhost:8080/"
        },
        "id": "iJTcjaMY75yC",
        "outputId": "5d5ca3f3-91c5-4a88-f53a-0fe5dc307ce0"
      },
      "execution_count": 63,
      "outputs": [
        {
          "output_type": "execute_result",
          "data": {
            "text/plain": [
              "array([ True,  True,  True, False])"
            ]
          },
          "metadata": {},
          "execution_count": 63
        }
      ]
    },
    {
      "cell_type": "markdown",
      "source": [
        "**Shape Mismatch**"
      ],
      "metadata": {
        "id": "Q9Ww1p5S8YZW"
      }
    },
    {
      "cell_type": "code",
      "source": [
        "a = np.arange(5)\n",
        "a + np.array([1,2])"
      ],
      "metadata": {
        "colab": {
          "base_uri": "https://localhost:8080/",
          "height": 183
        },
        "id": "xmEttYL_8cQY",
        "outputId": "87696a74-5892-4b7a-a25c-c9615dbfafcf"
      },
      "execution_count": 64,
      "outputs": [
        {
          "output_type": "error",
          "ename": "ValueError",
          "evalue": "ignored",
          "traceback": [
            "\u001b[0;31m---------------------------------------------------------------------------\u001b[0m",
            "\u001b[0;31mValueError\u001b[0m                                Traceback (most recent call last)",
            "\u001b[0;32m<ipython-input-64-156a0c4d0fcd>\u001b[0m in \u001b[0;36m<cell line: 2>\u001b[0;34m()\u001b[0m\n\u001b[1;32m      1\u001b[0m \u001b[0ma\u001b[0m \u001b[0;34m=\u001b[0m \u001b[0mnp\u001b[0m\u001b[0;34m.\u001b[0m\u001b[0marange\u001b[0m\u001b[0;34m(\u001b[0m\u001b[0;36m5\u001b[0m\u001b[0;34m)\u001b[0m\u001b[0;34m\u001b[0m\u001b[0;34m\u001b[0m\u001b[0m\n\u001b[0;32m----> 2\u001b[0;31m \u001b[0ma\u001b[0m \u001b[0;34m+\u001b[0m \u001b[0mnp\u001b[0m\u001b[0;34m.\u001b[0m\u001b[0marray\u001b[0m\u001b[0;34m(\u001b[0m\u001b[0;34m[\u001b[0m\u001b[0;36m1\u001b[0m\u001b[0;34m,\u001b[0m\u001b[0;36m2\u001b[0m\u001b[0;34m]\u001b[0m\u001b[0;34m)\u001b[0m\u001b[0;34m\u001b[0m\u001b[0;34m\u001b[0m\u001b[0m\n\u001b[0m",
            "\u001b[0;31mValueError\u001b[0m: operands could not be broadcast together with shapes (5,) (2,) "
          ]
        }
      ]
    },
    {
      "cell_type": "code",
      "source": [
        "a = np.arange(10)\n",
        "np.sum(a)"
      ],
      "metadata": {
        "colab": {
          "base_uri": "https://localhost:8080/"
        },
        "id": "ufioGEH-8lT0",
        "outputId": "645b7416-754c-4f52-afe2-afdd44a4bf24"
      },
      "execution_count": 65,
      "outputs": [
        {
          "output_type": "execute_result",
          "data": {
            "text/plain": [
              "45"
            ]
          },
          "metadata": {},
          "execution_count": 65
        }
      ]
    },
    {
      "cell_type": "code",
      "source": [
        "# Sum by rows and by column\n",
        "a = np.array([[1,1],[2,2]])\n",
        "a"
      ],
      "metadata": {
        "colab": {
          "base_uri": "https://localhost:8080/"
        },
        "id": "TjcIGSUi-2vF",
        "outputId": "a5df8f65-63d2-4d72-a153-dd6bd3220ad8"
      },
      "execution_count": 68,
      "outputs": [
        {
          "output_type": "execute_result",
          "data": {
            "text/plain": [
              "array([[1, 1],\n",
              "       [2, 2]])"
            ]
          },
          "metadata": {},
          "execution_count": 68
        }
      ]
    },
    {
      "cell_type": "code",
      "source": [
        "a.sum(axis=0) #column first dimension"
      ],
      "metadata": {
        "colab": {
          "base_uri": "https://localhost:8080/"
        },
        "id": "MZJsYaLy_HDU",
        "outputId": "94518d85-4b55-4f54-fdc7-5faa9e1da723"
      },
      "execution_count": 69,
      "outputs": [
        {
          "output_type": "execute_result",
          "data": {
            "text/plain": [
              "array([3, 3])"
            ]
          },
          "metadata": {},
          "execution_count": 69
        }
      ]
    },
    {
      "cell_type": "code",
      "source": [
        "a.sum(axis = 1) #rows(second dimension)"
      ],
      "metadata": {
        "colab": {
          "base_uri": "https://localhost:8080/"
        },
        "id": "IOxvAPJv_Ssf",
        "outputId": "36d62d40-cfc2-415b-ea80-108c47906542"
      },
      "execution_count": 70,
      "outputs": [
        {
          "output_type": "execute_result",
          "data": {
            "text/plain": [
              "array([2, 4])"
            ]
          },
          "metadata": {},
          "execution_count": 70
        }
      ]
    },
    {
      "cell_type": "markdown",
      "source": [
        "**Other Reductions**"
      ],
      "metadata": {
        "id": "pDnNjgPW_fP0"
      }
    },
    {
      "cell_type": "code",
      "source": [
        "x = np.array([1,3,2])\n",
        "x.min()"
      ],
      "metadata": {
        "colab": {
          "base_uri": "https://localhost:8080/"
        },
        "id": "9omVjf4c_iuf",
        "outputId": "469dcb82-7329-4b5f-d3f8-89ac9cecd65e"
      },
      "execution_count": 71,
      "outputs": [
        {
          "output_type": "execute_result",
          "data": {
            "text/plain": [
              "1"
            ]
          },
          "metadata": {},
          "execution_count": 71
        }
      ]
    },
    {
      "cell_type": "code",
      "source": [
        "x.max()"
      ],
      "metadata": {
        "colab": {
          "base_uri": "https://localhost:8080/"
        },
        "id": "aIbrDdLj_u2e",
        "outputId": "4f3f17f0-325f-4140-a27c-041d35e9d9da"
      },
      "execution_count": 72,
      "outputs": [
        {
          "output_type": "execute_result",
          "data": {
            "text/plain": [
              "3"
            ]
          },
          "metadata": {},
          "execution_count": 72
        }
      ]
    },
    {
      "cell_type": "code",
      "source": [
        "x.argmax() # gives index of minimum element"
      ],
      "metadata": {
        "colab": {
          "base_uri": "https://localhost:8080/"
        },
        "id": "3ioxjMMa_xwZ",
        "outputId": "37aa4793-b148-4416-b099-eb1520d3945a"
      },
      "execution_count": 73,
      "outputs": [
        {
          "output_type": "execute_result",
          "data": {
            "text/plain": [
              "1"
            ]
          },
          "metadata": {},
          "execution_count": 73
        }
      ]
    },
    {
      "cell_type": "code",
      "source": [
        "x.argmin() #index of maximum element"
      ],
      "metadata": {
        "colab": {
          "base_uri": "https://localhost:8080/"
        },
        "id": "ayO7tM1q_7Xg",
        "outputId": "c22148ca-c912-4524-87c5-5e63898c3324"
      },
      "execution_count": 74,
      "outputs": [
        {
          "output_type": "execute_result",
          "data": {
            "text/plain": [
              "0"
            ]
          },
          "metadata": {},
          "execution_count": 74
        }
      ]
    },
    {
      "cell_type": "markdown",
      "source": [
        "**Logical Operator**"
      ],
      "metadata": {
        "id": "4N11rcMCGxbR"
      }
    },
    {
      "cell_type": "code",
      "source": [
        "np.all([True, True, False])"
      ],
      "metadata": {
        "colab": {
          "base_uri": "https://localhost:8080/"
        },
        "id": "jwQZLoS4G1gh",
        "outputId": "8cf56462-9b9d-421b-d776-1ebb2167da73"
      },
      "execution_count": 75,
      "outputs": [
        {
          "output_type": "execute_result",
          "data": {
            "text/plain": [
              "False"
            ]
          },
          "metadata": {},
          "execution_count": 75
        }
      ]
    },
    {
      "cell_type": "code",
      "source": [
        "np.any([True, True, False])"
      ],
      "metadata": {
        "colab": {
          "base_uri": "https://localhost:8080/"
        },
        "id": "B88DDifkG8VW",
        "outputId": "4131d21c-f7ec-43d3-d981-1c59e1bf660b"
      },
      "execution_count": 76,
      "outputs": [
        {
          "output_type": "execute_result",
          "data": {
            "text/plain": [
              "True"
            ]
          },
          "metadata": {},
          "execution_count": 76
        }
      ]
    },
    {
      "cell_type": "markdown",
      "source": [
        "**STATISTICS**"
      ],
      "metadata": {
        "id": "I7hbsvPbHLGr"
      }
    },
    {
      "cell_type": "code",
      "source": [
        "x = np.array([1,2,3,1])\n",
        "y = np.array([[1,2,3],[5,6,1]])\n",
        "x.mean()"
      ],
      "metadata": {
        "colab": {
          "base_uri": "https://localhost:8080/"
        },
        "id": "gSVXEiOwHOVr",
        "outputId": "ba7c1102-7a9c-480b-8c08-ccf9cd8d1cf3"
      },
      "execution_count": 77,
      "outputs": [
        {
          "output_type": "execute_result",
          "data": {
            "text/plain": [
              "1.75"
            ]
          },
          "metadata": {},
          "execution_count": 77
        }
      ]
    },
    {
      "cell_type": "code",
      "source": [
        "np.median(x)"
      ],
      "metadata": {
        "colab": {
          "base_uri": "https://localhost:8080/"
        },
        "id": "elsVnwdLHfJY",
        "outputId": "cc4804ef-aaff-4886-e5f8-af11532c3d74"
      },
      "execution_count": 78,
      "outputs": [
        {
          "output_type": "execute_result",
          "data": {
            "text/plain": [
              "1.5"
            ]
          },
          "metadata": {},
          "execution_count": 78
        }
      ]
    },
    {
      "cell_type": "code",
      "source": [
        "np.median(y, axis=-1) #last axis"
      ],
      "metadata": {
        "colab": {
          "base_uri": "https://localhost:8080/"
        },
        "id": "ZNl09nWeHlCV",
        "outputId": "216cfa04-42f8-4037-edfb-f141b73e1ada"
      },
      "execution_count": 79,
      "outputs": [
        {
          "output_type": "execute_result",
          "data": {
            "text/plain": [
              "array([2., 5.])"
            ]
          },
          "metadata": {},
          "execution_count": 79
        }
      ]
    },
    {
      "cell_type": "markdown",
      "source": [
        "**EXAMPLE**"
      ],
      "metadata": {
        "id": "IHm-_v9ROzz_"
      }
    },
    {
      "cell_type": "code",
      "source": [
        "# load data into numpy array object\n",
        "data = np.loadtxt('populations.txt')"
      ],
      "metadata": {
        "id": "5GyZ0OJTO4Bs"
      },
      "execution_count": 80,
      "outputs": []
    },
    {
      "cell_type": "code",
      "source": [
        "data"
      ],
      "metadata": {
        "colab": {
          "base_uri": "https://localhost:8080/"
        },
        "id": "bptkAVA3Pl5f",
        "outputId": "e0370213-aac5-47df-a9ef-169956fcace2"
      },
      "execution_count": 81,
      "outputs": [
        {
          "output_type": "execute_result",
          "data": {
            "text/plain": [
              "array([[ 1900., 30000.,  4000., 48300.],\n",
              "       [ 1901., 47200.,  6100., 48200.],\n",
              "       [ 1902., 70200.,  9800., 41500.],\n",
              "       [ 1903., 77400., 35200., 38200.],\n",
              "       [ 1904., 36300., 59400., 40600.],\n",
              "       [ 1905., 20600., 41700., 39800.],\n",
              "       [ 1906., 18100., 19000., 38600.],\n",
              "       [ 1907., 21400., 13000., 42300.],\n",
              "       [ 1908., 22000.,  8300., 44500.],\n",
              "       [ 1909., 25400.,  9100., 42100.],\n",
              "       [ 1910., 27100.,  7400., 46000.],\n",
              "       [ 1911., 40300.,  8000., 46800.],\n",
              "       [ 1912., 57000., 12300., 43800.],\n",
              "       [ 1913., 76600., 19500., 40900.],\n",
              "       [ 1914., 52300., 45700., 39400.],\n",
              "       [ 1915., 19500., 51100., 39000.],\n",
              "       [ 1916., 11200., 29700., 36700.],\n",
              "       [ 1917.,  7600., 15800., 41800.],\n",
              "       [ 1918., 14600.,  9700., 43300.],\n",
              "       [ 1919., 16200., 10100., 41300.],\n",
              "       [ 1920., 24700.,  8600., 47300.]])"
            ]
          },
          "metadata": {},
          "execution_count": 81
        }
      ]
    },
    {
      "cell_type": "code",
      "source": [
        "year, monkey, dog, cat = data.T #columns to variable\n",
        "print(year)"
      ],
      "metadata": {
        "colab": {
          "base_uri": "https://localhost:8080/"
        },
        "id": "oEAoFZ5SQZgW",
        "outputId": "bfc7d6e1-9285-41a8-f7e9-e7dd75ffffa4"
      },
      "execution_count": 84,
      "outputs": [
        {
          "output_type": "stream",
          "name": "stdout",
          "text": [
            "[1900. 1901. 1902. 1903. 1904. 1905. 1906. 1907. 1908. 1909. 1910. 1911.\n",
            " 1912. 1913. 1914. 1915. 1916. 1917. 1918. 1919. 1920.]\n"
          ]
        }
      ]
    },
    {
      "cell_type": "code",
      "source": [
        "population = data[:,1:] #take all rows and column from 1 to last\n",
        "population"
      ],
      "metadata": {
        "colab": {
          "base_uri": "https://localhost:8080/"
        },
        "id": "Rv1W4XQsQvyC",
        "outputId": "ad8d21f9-1716-483b-8690-f00fc6ba50d1"
      },
      "execution_count": 85,
      "outputs": [
        {
          "output_type": "execute_result",
          "data": {
            "text/plain": [
              "array([[30000.,  4000., 48300.],\n",
              "       [47200.,  6100., 48200.],\n",
              "       [70200.,  9800., 41500.],\n",
              "       [77400., 35200., 38200.],\n",
              "       [36300., 59400., 40600.],\n",
              "       [20600., 41700., 39800.],\n",
              "       [18100., 19000., 38600.],\n",
              "       [21400., 13000., 42300.],\n",
              "       [22000.,  8300., 44500.],\n",
              "       [25400.,  9100., 42100.],\n",
              "       [27100.,  7400., 46000.],\n",
              "       [40300.,  8000., 46800.],\n",
              "       [57000., 12300., 43800.],\n",
              "       [76600., 19500., 40900.],\n",
              "       [52300., 45700., 39400.],\n",
              "       [19500., 51100., 39000.],\n",
              "       [11200., 29700., 36700.],\n",
              "       [ 7600., 15800., 41800.],\n",
              "       [14600.,  9700., 43300.],\n",
              "       [16200., 10100., 41300.],\n",
              "       [24700.,  8600., 47300.]])"
            ]
          },
          "metadata": {},
          "execution_count": 85
        }
      ]
    },
    {
      "cell_type": "code",
      "source": [
        "# find index of max population species each year\n",
        "np.argmax(population, axis = 1)"
      ],
      "metadata": {
        "colab": {
          "base_uri": "https://localhost:8080/"
        },
        "id": "08clV0NrRMO9",
        "outputId": "5e1c51b9-09b1-4bc1-e21d-8fb7fb43f937"
      },
      "execution_count": 86,
      "outputs": [
        {
          "output_type": "execute_result",
          "data": {
            "text/plain": [
              "array([2, 2, 0, 0, 1, 1, 2, 2, 2, 2, 2, 2, 0, 0, 0, 1, 2, 2, 2, 2, 2])"
            ]
          },
          "metadata": {},
          "execution_count": 86
        }
      ]
    },
    {
      "cell_type": "markdown",
      "source": [
        "## **BROADCASTING**"
      ],
      "metadata": {
        "id": "urjfWJF-RmIO"
      }
    },
    {
      "cell_type": "code",
      "source": [
        "a = np.tile(np.arange(0,40,10),(3,1))  # copy 3 times rowwise and 1 time entire row\n",
        "print(a)\n",
        "\n",
        "print(\"************\")\n",
        "a = a.T\n",
        "print(a)"
      ],
      "metadata": {
        "colab": {
          "base_uri": "https://localhost:8080/"
        },
        "id": "bmLx0QBkRpjv",
        "outputId": "f89c83e1-f3fa-4d8a-d5c4-da7f52f3e32b"
      },
      "execution_count": 8,
      "outputs": [
        {
          "output_type": "stream",
          "name": "stdout",
          "text": [
            "[[ 0 10 20 30]\n",
            " [ 0 10 20 30]\n",
            " [ 0 10 20 30]]\n",
            "************\n",
            "[[ 0  0  0]\n",
            " [10 10 10]\n",
            " [20 20 20]\n",
            " [30 30 30]]\n"
          ]
        }
      ]
    },
    {
      "cell_type": "code",
      "source": [
        "import numpy as np\n",
        "b = np.tile(np.arange(0,10,2),(3,2))  # copy 3 times rowwise and 2 time entire row\n",
        "print(b)"
      ],
      "metadata": {
        "colab": {
          "base_uri": "https://localhost:8080/"
        },
        "id": "gdEOm-nW74t6",
        "outputId": "d6ba38ee-931e-47c2-de32-028aa0089e1a"
      },
      "execution_count": 6,
      "outputs": [
        {
          "output_type": "stream",
          "name": "stdout",
          "text": [
            "[[0 2 4 6 8 0 2 4 6 8]\n",
            " [0 2 4 6 8 0 2 4 6 8]\n",
            " [0 2 4 6 8 0 2 4 6 8]]\n"
          ]
        }
      ]
    },
    {
      "cell_type": "code",
      "source": [
        "c = np.array([1,2,3])\n",
        "a+c\n",
        "# here c uses the broadcasting and become the size of a"
      ],
      "metadata": {
        "colab": {
          "base_uri": "https://localhost:8080/"
        },
        "id": "u5VYKrar9CY5",
        "outputId": "215689f5-c586-4f0a-a4c4-c45ae1d8a652"
      },
      "execution_count": 9,
      "outputs": [
        {
          "output_type": "execute_result",
          "data": {
            "text/plain": [
              "array([[ 1,  2,  3],\n",
              "       [11, 12, 13],\n",
              "       [21, 22, 23],\n",
              "       [31, 32, 33]])"
            ]
          },
          "metadata": {},
          "execution_count": 9
        }
      ]
    },
    {
      "cell_type": "markdown",
      "source": [
        "**Converting 1D array to 2D**"
      ],
      "metadata": {
        "id": "H5VdtsIS-52c"
      }
    },
    {
      "cell_type": "code",
      "source": [
        " a = np.arange(0,40,10)\n",
        " a.shape"
      ],
      "metadata": {
        "colab": {
          "base_uri": "https://localhost:8080/"
        },
        "id": "4MVdxBvf-KER",
        "outputId": "21042733-291b-4c5c-9916-0a1ecde28d41"
      },
      "execution_count": 10,
      "outputs": [
        {
          "output_type": "execute_result",
          "data": {
            "text/plain": [
              "(4,)"
            ]
          },
          "metadata": {},
          "execution_count": 10
        }
      ]
    },
    {
      "cell_type": "code",
      "source": [
        "a = a[: , np.newaxis] #add new axis -> 2D array\n",
        "a.shape"
      ],
      "metadata": {
        "colab": {
          "base_uri": "https://localhost:8080/"
        },
        "id": "DntpLAzz_RY6",
        "outputId": "fb055e3a-166f-4ba7-c658-36c96493f06a"
      },
      "execution_count": 11,
      "outputs": [
        {
          "output_type": "execute_result",
          "data": {
            "text/plain": [
              "(4, 1)"
            ]
          },
          "metadata": {},
          "execution_count": 11
        }
      ]
    },
    {
      "cell_type": "code",
      "source": [
        "a"
      ],
      "metadata": {
        "colab": {
          "base_uri": "https://localhost:8080/"
        },
        "id": "7xsAYxpp_fcm",
        "outputId": "ada3a4a3-db3e-463f-e15f-1b9991a8b2b2"
      },
      "execution_count": 13,
      "outputs": [
        {
          "output_type": "execute_result",
          "data": {
            "text/plain": [
              "array([[ 0],\n",
              "       [10],\n",
              "       [20],\n",
              "       [30]])"
            ]
          },
          "metadata": {},
          "execution_count": 13
        }
      ]
    },
    {
      "cell_type": "markdown",
      "source": [
        "## **Array Shape Manipulation**"
      ],
      "metadata": {
        "id": "b1fmCn4m_27J"
      }
    },
    {
      "cell_type": "markdown",
      "source": [
        "**FLATTENING**"
      ],
      "metadata": {
        "id": "jH6C_mhD_9vs"
      }
    },
    {
      "cell_type": "code",
      "source": [
        "a = np.array([[1,2,3],[4,5,6]])\n",
        "a.ravel() #return a flattened array,(1D)"
      ],
      "metadata": {
        "colab": {
          "base_uri": "https://localhost:8080/"
        },
        "id": "zlmqEE0w_0Cd",
        "outputId": "9c9bea70-07aa-4ede-cb29-ea1b64c23521"
      },
      "execution_count": 15,
      "outputs": [
        {
          "output_type": "execute_result",
          "data": {
            "text/plain": [
              "array([1, 2, 3, 4, 5, 6])"
            ]
          },
          "metadata": {},
          "execution_count": 15
        }
      ]
    },
    {
      "cell_type": "code",
      "source": [
        "a #don't change the real array"
      ],
      "metadata": {
        "colab": {
          "base_uri": "https://localhost:8080/"
        },
        "id": "XxwfYhGyAZfD",
        "outputId": "c1f4aec7-1bcf-4a72-d951-a9bd84f28e09"
      },
      "execution_count": 16,
      "outputs": [
        {
          "output_type": "execute_result",
          "data": {
            "text/plain": [
              "array([[1, 2, 3],\n",
              "       [4, 5, 6]])"
            ]
          },
          "metadata": {},
          "execution_count": 16
        }
      ]
    },
    {
      "cell_type": "markdown",
      "source": [
        "**Reshaping**\n",
        "<br>\n",
        "The inverse operation to flattening"
      ],
      "metadata": {
        "id": "uKFgoNVsAhtS"
      }
    },
    {
      "cell_type": "code",
      "source": [
        "a = np.array([[1,2,3],[4,5,6]])\n",
        "print(a.shape)\n",
        "print(a)"
      ],
      "metadata": {
        "colab": {
          "base_uri": "https://localhost:8080/"
        },
        "id": "xX9oNJv3Aedt",
        "outputId": "4ff949a7-a06f-4b09-b7ae-df7b9e48fc95"
      },
      "execution_count": 18,
      "outputs": [
        {
          "output_type": "stream",
          "name": "stdout",
          "text": [
            "(2, 3)\n",
            "[[1 2 3]\n",
            " [4 5 6]]\n"
          ]
        }
      ]
    },
    {
      "cell_type": "code",
      "source": [
        "b = a.ravel()\n",
        "print(b)"
      ],
      "metadata": {
        "colab": {
          "base_uri": "https://localhost:8080/"
        },
        "id": "v0Gl96d8BDJT",
        "outputId": "2cda1c3c-2b53-4950-9dcf-be10212b332e"
      },
      "execution_count": 19,
      "outputs": [
        {
          "output_type": "stream",
          "name": "stdout",
          "text": [
            "[1 2 3 4 5 6]\n"
          ]
        }
      ]
    },
    {
      "cell_type": "code",
      "source": [
        "b = b.reshape((2,3))\n",
        "b"
      ],
      "metadata": {
        "colab": {
          "base_uri": "https://localhost:8080/"
        },
        "id": "AbssRw7-BHTT",
        "outputId": "56b98dec-33b8-4a7a-a4ba-7b97cc439a63"
      },
      "execution_count": 20,
      "outputs": [
        {
          "output_type": "execute_result",
          "data": {
            "text/plain": [
              "array([[1, 2, 3],\n",
              "       [4, 5, 6]])"
            ]
          },
          "metadata": {},
          "execution_count": 20
        }
      ]
    },
    {
      "cell_type": "code",
      "source": [
        "# reshape may return a copy!\n",
        "a = np.zeros((3,2))\n",
        "b = a.T.reshape(3*2)\n",
        "b[0] = 100\n",
        "print(a)"
      ],
      "metadata": {
        "colab": {
          "base_uri": "https://localhost:8080/"
        },
        "id": "mZ9TWF-NBYng",
        "outputId": "0ea03c78-7853-4df3-fce2-23fb3c2f40c3"
      },
      "execution_count": 21,
      "outputs": [
        {
          "output_type": "stream",
          "name": "stdout",
          "text": [
            "[[0. 0.]\n",
            " [0. 0.]\n",
            " [0. 0.]]\n"
          ]
        }
      ]
    },
    {
      "cell_type": "markdown",
      "source": [
        "**Sorting Data**"
      ],
      "metadata": {
        "id": "mauCsvcvB9Yt"
      }
    },
    {
      "cell_type": "code",
      "source": [
        "# Sorting along an axis\n",
        "a = np.array([[5,4,6],[2,3,2]])\n",
        "b = np.sort(a,axis =1)\n",
        "b"
      ],
      "metadata": {
        "colab": {
          "base_uri": "https://localhost:8080/"
        },
        "id": "qUpa7JnWCAdF",
        "outputId": "ed05a0a5-d282-4f00-c827-20f6ffaefcf3"
      },
      "execution_count": 23,
      "outputs": [
        {
          "output_type": "execute_result",
          "data": {
            "text/plain": [
              "array([[4, 5, 6],\n",
              "       [2, 2, 3]])"
            ]
          },
          "metadata": {},
          "execution_count": 23
        }
      ]
    },
    {
      "cell_type": "code",
      "source": [
        "#inplace sort\n",
        "a.sort(axis=1)\n",
        "a"
      ],
      "metadata": {
        "colab": {
          "base_uri": "https://localhost:8080/"
        },
        "id": "uQWVf6YCCS73",
        "outputId": "d0711129-ee1f-4b21-cb9b-ad7533ae4a54"
      },
      "execution_count": 24,
      "outputs": [
        {
          "output_type": "execute_result",
          "data": {
            "text/plain": [
              "array([[4, 5, 6],\n",
              "       [2, 2, 3]])"
            ]
          },
          "metadata": {},
          "execution_count": 24
        }
      ]
    },
    {
      "cell_type": "code",
      "source": [
        "# Sorting using fancy Indexing\n",
        "a = np.array([4,3,1,2])\n",
        "b = np.argsort(a)\n",
        "b"
      ],
      "metadata": {
        "colab": {
          "base_uri": "https://localhost:8080/"
        },
        "id": "EaZ7zaX7CZEs",
        "outputId": "00a30c0a-47c2-4d2a-d0e9-8818145418ec"
      },
      "execution_count": 26,
      "outputs": [
        {
          "output_type": "execute_result",
          "data": {
            "text/plain": [
              "array([2, 3, 1, 0])"
            ]
          },
          "metadata": {},
          "execution_count": 26
        }
      ]
    },
    {
      "cell_type": "code",
      "source": [
        "a[b]"
      ],
      "metadata": {
        "colab": {
          "base_uri": "https://localhost:8080/"
        },
        "id": "P95ydH9yCsDl",
        "outputId": "4394e2c7-bca2-44fb-b8c2-ed4f22106c58"
      },
      "execution_count": 27,
      "outputs": [
        {
          "output_type": "execute_result",
          "data": {
            "text/plain": [
              "array([1, 2, 3, 4])"
            ]
          },
          "metadata": {},
          "execution_count": 27
        }
      ]
    }
  ]
}